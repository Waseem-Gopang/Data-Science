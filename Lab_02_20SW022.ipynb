{
  "nbformat": 4,
  "nbformat_minor": 0,
  "metadata": {
    "colab": {
      "provenance": [],
      "authorship_tag": "ABX9TyP+w8nGPeNMZJi48dTg9qjf",
      "include_colab_link": true
    },
    "kernelspec": {
      "name": "python3",
      "display_name": "Python 3"
    },
    "language_info": {
      "name": "python"
    }
  },
  "cells": [
    {
      "cell_type": "markdown",
      "metadata": {
        "id": "view-in-github",
        "colab_type": "text"
      },
      "source": [
        "<a href=\"https://colab.research.google.com/github/Waseem-Gopang/Data-Science/blob/main/Lab_02_20SW022.ipynb\" target=\"_parent\"><img src=\"https://colab.research.google.com/assets/colab-badge.svg\" alt=\"Open In Colab\"/></a>"
      ]
    },
    {
      "cell_type": "markdown",
      "source": [
        "#Lab: 02\n",
        "\n",
        "#Roll No: 20SW022\n",
        "\n",
        "#Section: 2"
      ],
      "metadata": {
        "id": "-RAFXDy4rU_Q"
      }
    },
    {
      "cell_type": "markdown",
      "source": [
        "# Task: 01"
      ],
      "metadata": {
        "id": "ar6S3JBnrpQ1"
      }
    },
    {
      "cell_type": "code",
      "source": [
        "point=174\n",
        "if point>=1 and point<=50:\n",
        "    print(\"Congratulations! You won a wooden rabbit!\")\n",
        "elif point>=51 and point<=150:\n",
        "    print(\"Oh dear, no prize this time.\")\n",
        "elif point>=151 and point<=180:\n",
        "    print(\"Congratulations! You won a wafer-thin mint\")\n",
        "elif point>181 and point<=200:\n",
        "    print(\"Congratulations! You won a penguin\")\n",
        "else:\n",
        "    print(\"Invalid point\")\n"
      ],
      "metadata": {
        "colab": {
          "base_uri": "https://localhost:8080/"
        },
        "id": "Jayq19cirsXj",
        "outputId": "5b866c8e-a039-4f6c-8bb0-5649e148fa88"
      },
      "execution_count": null,
      "outputs": [
        {
          "output_type": "stream",
          "name": "stdout",
          "text": [
            "Congratulations! You won a wafer-thin mint\n"
          ]
        }
      ]
    },
    {
      "cell_type": "markdown",
      "source": [
        "#Task: 02"
      ],
      "metadata": {
        "id": "Ualoqqilu4PS"
      }
    },
    {
      "cell_type": "code",
      "source": [
        "answer=10\n",
        "guess=10\n",
        "if guess<answer:\n",
        "  print(\"Oops! Your guess was too low.\")\n",
        "elif guess>answer:\n",
        "  print(\"Oops! Your guess was too high.\")\n",
        "else:\n",
        "  print(\"Nice! Your guess matched the answer!\")"
      ],
      "metadata": {
        "colab": {
          "base_uri": "https://localhost:8080/"
        },
        "id": "WZqwCfyYu69G",
        "outputId": "77e45918-65ee-4568-ccc7-da8d37fa7b54"
      },
      "execution_count": null,
      "outputs": [
        {
          "output_type": "stream",
          "name": "stdout",
          "text": [
            "Nice! Your guess matched the answer!\n"
          ]
        }
      ]
    },
    {
      "cell_type": "markdown",
      "source": [
        "#Task: 03"
      ],
      "metadata": {
        "id": "KRtK23ECxV78"
      }
    },
    {
      "cell_type": "code",
      "source": [
        "state=\"CA\"\n",
        "purchaseAmount=4000\n",
        "if state==\"CA\":\n",
        "  taxAmount=0.075\n",
        "  totalCost=purchaseAmount*(1+taxAmount)\n",
        "  print(\"Since you're from {}, your total cost is {}.\".format(state, totalCost))\n",
        "elif state==\"MN\":\n",
        "  taxAmount=0.095\n",
        "  totalCost=purchaseAmount*(1+taxAmount)\n",
        "  print(\"Since you're from {}, your total cost is {}.\".format(state, totalCost))\n",
        "elif state==\"NY\":\n",
        "  taxAmount=0.089\n",
        "  totalCost=purchaseAmount*(1+taxAmount)\n",
        "  print(\"Since you're from {}, your total cost is {}.\".format(state, totalCost))\n"
      ],
      "metadata": {
        "colab": {
          "base_uri": "https://localhost:8080/"
        },
        "id": "DtadcZh-xYKa",
        "outputId": "a5bec380-b303-41c7-df33-6de309192e9b"
      },
      "execution_count": null,
      "outputs": [
        {
          "output_type": "stream",
          "name": "stdout",
          "text": [
            "Since you're from CA, your total cost is 4300.0.\n"
          ]
        }
      ]
    },
    {
      "cell_type": "markdown",
      "source": [
        "#Task: 04"
      ],
      "metadata": {
        "id": "L3FlfTzIy_fG"
      }
    },
    {
      "cell_type": "code",
      "source": [
        "sentence = [\"the\", \"quick\", \"brown\", \"fox\", \"jumped\", \"over\", \"the\", \"lazy\", \"dog\"]\n",
        "for i in sentence:\n",
        "  print(i)\n"
      ],
      "metadata": {
        "colab": {
          "base_uri": "https://localhost:8080/"
        },
        "id": "ZCeTuCiJzDUB",
        "outputId": "cea9547a-0653-4b2d-cae8-2553b4564913"
      },
      "execution_count": null,
      "outputs": [
        {
          "output_type": "stream",
          "name": "stdout",
          "text": [
            "the\n",
            "quick\n",
            "brown\n",
            "fox\n",
            "jumped\n",
            "over\n",
            "the\n",
            "lazy\n",
            "dog\n"
          ]
        }
      ]
    },
    {
      "cell_type": "markdown",
      "source": [
        "#Task: 05"
      ],
      "metadata": {
        "id": "rPUCFthv0A9-"
      }
    },
    {
      "cell_type": "code",
      "source": [
        "for i in range(5,31,5):\n",
        "  print(i)"
      ],
      "metadata": {
        "id": "6Ja1MZD20Cw8",
        "colab": {
          "base_uri": "https://localhost:8080/"
        },
        "outputId": "0656a752-aa9c-4208-955a-d75910dbb364"
      },
      "execution_count": 17,
      "outputs": [
        {
          "output_type": "stream",
          "name": "stdout",
          "text": [
            "5\n",
            "10\n",
            "15\n",
            "20\n",
            "25\n",
            "30\n"
          ]
        }
      ]
    },
    {
      "cell_type": "markdown",
      "source": [
        "#Task: 06"
      ],
      "metadata": {
        "id": "TFQxfrz03Cjo"
      }
    },
    {
      "cell_type": "code",
      "source": [
        "names = [\"Rick Sanchez\", \"Morty Smith\", \"Summer Smith\", \"Jerry Smith\", \"Beth Smith\"]\n",
        "first_names = [name.split()[0].lower() for name in names]\n",
        "print(first_names)\n"
      ],
      "metadata": {
        "colab": {
          "base_uri": "https://localhost:8080/"
        },
        "id": "7q9IHqfP3E-E",
        "outputId": "e39ee993-9d8f-4eee-e0d9-3f0c41b29fc9"
      },
      "execution_count": 18,
      "outputs": [
        {
          "output_type": "stream",
          "name": "stdout",
          "text": [
            "['rick', 'morty', 'summer', 'jerry', 'beth']\n"
          ]
        }
      ]
    },
    {
      "cell_type": "markdown",
      "source": [
        "#Task: 07"
      ],
      "metadata": {
        "id": "Qeszep-U3WQ4"
      }
    },
    {
      "cell_type": "code",
      "source": [
        "multiples_3 = [num * 3 for num in range(1, 21)]\n",
        "print(multiples_3)\n"
      ],
      "metadata": {
        "colab": {
          "base_uri": "https://localhost:8080/"
        },
        "id": "U8dEP8oi3Zrr",
        "outputId": "ba844d0f-1673-4af8-9b5c-032a76853a21"
      },
      "execution_count": 19,
      "outputs": [
        {
          "output_type": "stream",
          "name": "stdout",
          "text": [
            "[3, 6, 9, 12, 15, 18, 21, 24, 27, 30, 33, 36, 39, 42, 45, 48, 51, 54, 57, 60]\n"
          ]
        }
      ]
    },
    {
      "cell_type": "markdown",
      "source": [
        "#Task: 08"
      ],
      "metadata": {
        "id": "Bk_70Cqv3svf"
      }
    },
    {
      "cell_type": "code",
      "source": [
        "scores = {\n",
        "    \"Rick Sanchez\": 70,\n",
        "    \"Morty Smith\": 35,\n",
        "    \"Summer Smith\": 82,\n",
        "    \"Jerry Smith\": 23,\n",
        "    \"Beth Smith\": 98\n",
        "}\n",
        "passed = [name for name, score in scores.items() if score >= 65]\n",
        "print(passed)\n"
      ],
      "metadata": {
        "colab": {
          "base_uri": "https://localhost:8080/"
        },
        "id": "SLX2IRof3u1-",
        "outputId": "bd13982a-df19-4153-9dae-2fb1f3b46955"
      },
      "execution_count": 23,
      "outputs": [
        {
          "output_type": "stream",
          "name": "stdout",
          "text": [
            "['Rick Sanchez', 'Summer Smith', 'Beth Smith']\n"
          ]
        }
      ]
    },
    {
      "cell_type": "markdown",
      "source": [
        "#Task: 09"
      ],
      "metadata": {
        "id": "hClEfvof4swn"
      }
    },
    {
      "cell_type": "code",
      "source": [
        "cast_names = [\"Barney\", \"Robin\", \"Ted\", \"Lily\", \"Marshall\"]\n",
        "cast_heights = [72, 68, 72, 66, 76]\n",
        "cast = dict(zip(cast_names, cast_heights))\n",
        "print(cast)\n"
      ],
      "metadata": {
        "colab": {
          "base_uri": "https://localhost:8080/"
        },
        "id": "o7Dy09gT4vro",
        "outputId": "88c8fa4a-35af-49ba-aeeb-b697bcbaa6b5"
      },
      "execution_count": 24,
      "outputs": [
        {
          "output_type": "stream",
          "name": "stdout",
          "text": [
            "{'Barney': 72, 'Robin': 68, 'Ted': 72, 'Lily': 66, 'Marshall': 76}\n"
          ]
        }
      ]
    },
    {
      "cell_type": "markdown",
      "source": [
        "#Task: 10"
      ],
      "metadata": {
        "id": "7w9RbkEe5dDL"
      }
    },
    {
      "cell_type": "code",
      "source": [
        "cast = [\"Barney Stinson\", \"Robin Scherbatsky\", \"Ted Mosby\", \"Lily Aldrin\", \"Marshall Eriksen\"]\n",
        "heights = [72, 68, 72, 66, 76]\n",
        "for index, name in enumerate(cast):\n",
        "    cast[index] = f\"{name} {heights[index]}\"\n",
        "print(cast)\n"
      ],
      "metadata": {
        "colab": {
          "base_uri": "https://localhost:8080/"
        },
        "id": "mme3kAr55eps",
        "outputId": "6c7e627d-bc21-40a3-a6b5-d5ab1aebde24"
      },
      "execution_count": 25,
      "outputs": [
        {
          "output_type": "stream",
          "name": "stdout",
          "text": [
            "['Barney Stinson 72', 'Robin Scherbatsky 68', 'Ted Mosby 72', 'Lily Aldrin 66', 'Marshall Eriksen 76']\n"
          ]
        }
      ]
    }
  ]
}