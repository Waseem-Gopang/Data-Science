{
  "cells": [
    {
      "cell_type": "markdown",
      "metadata": {
        "colab_type": "text",
        "id": "view-in-github"
      },
      "source": [
        "<a href=\"https://colab.research.google.com/github/zami-dot/Data_Science/blob/main/20SW046_lab_11.ipynb\" target=\"_parent\"><img src=\"https://colab.research.google.com/assets/colab-badge.svg\" alt=\"Open In Colab\"/></a>"
      ]
    },
    {
      "cell_type": "markdown",
      "metadata": {
        "id": "I_ebA28_hOYe"
      },
      "source": [
        "LAB **11**\n",
        "\n",
        "Roll_no **20SW022**\n",
        "\n",
        "Section **2**"
      ]
    },
    {
      "cell_type": "code",
      "execution_count": 1,
      "metadata": {
        "id": "nwmKa42XhGMN"
      },
      "outputs": [],
      "source": [
        "import pandas as pd\n",
        "from sklearn.feature_extraction.text import TfidfVectorizer\n",
        "from sklearn.cluster import KMeans\n",
        "import helper"
      ]
    },
    {
      "cell_type": "code",
      "execution_count": 3,
      "metadata": {
        "colab": {
          "base_uri": "https://localhost:8080/",
          "height": 206
        },
        "id": "v2OrGrWThcLK",
        "outputId": "f6369109-a8d2-4168-f44f-353f44caef1c"
      },
      "outputs": [
        {
          "data": {
            "text/html": [
              "\n",
              "  <div id=\"df-7732704c-268a-4fa0-b30f-6d79742f48b0\" class=\"colab-df-container\">\n",
              "    <div>\n",
              "<style scoped>\n",
              "    .dataframe tbody tr th:only-of-type {\n",
              "        vertical-align: middle;\n",
              "    }\n",
              "\n",
              "    .dataframe tbody tr th {\n",
              "        vertical-align: top;\n",
              "    }\n",
              "\n",
              "    .dataframe thead th {\n",
              "        text-align: right;\n",
              "    }\n",
              "</style>\n",
              "<table border=\"1\" class=\"dataframe\">\n",
              "  <thead>\n",
              "    <tr style=\"text-align: right;\">\n",
              "      <th></th>\n",
              "      <th>movieId</th>\n",
              "      <th>title</th>\n",
              "      <th>genres</th>\n",
              "    </tr>\n",
              "  </thead>\n",
              "  <tbody>\n",
              "    <tr>\n",
              "      <th>0</th>\n",
              "      <td>1</td>\n",
              "      <td>Toy Story (1995)</td>\n",
              "      <td>Adventure|Animation|Children|Comedy|Fantasy</td>\n",
              "    </tr>\n",
              "    <tr>\n",
              "      <th>1</th>\n",
              "      <td>2</td>\n",
              "      <td>Jumanji (1995)</td>\n",
              "      <td>Adventure|Children|Fantasy</td>\n",
              "    </tr>\n",
              "    <tr>\n",
              "      <th>2</th>\n",
              "      <td>3</td>\n",
              "      <td>Grumpier Old Men (1995)</td>\n",
              "      <td>Comedy|Romance</td>\n",
              "    </tr>\n",
              "    <tr>\n",
              "      <th>3</th>\n",
              "      <td>4</td>\n",
              "      <td>Waiting to Exhale (1995)</td>\n",
              "      <td>Comedy|Drama|Romance</td>\n",
              "    </tr>\n",
              "    <tr>\n",
              "      <th>4</th>\n",
              "      <td>5</td>\n",
              "      <td>Father of the Bride Part II (1995)</td>\n",
              "      <td>Comedy</td>\n",
              "    </tr>\n",
              "  </tbody>\n",
              "</table>\n",
              "</div>\n",
              "    <div class=\"colab-df-buttons\">\n",
              "\n",
              "  <div class=\"colab-df-container\">\n",
              "    <button class=\"colab-df-convert\" onclick=\"convertToInteractive('df-7732704c-268a-4fa0-b30f-6d79742f48b0')\"\n",
              "            title=\"Convert this dataframe to an interactive table.\"\n",
              "            style=\"display:none;\">\n",
              "\n",
              "  <svg xmlns=\"http://www.w3.org/2000/svg\" height=\"24px\" viewBox=\"0 -960 960 960\">\n",
              "    <path d=\"M120-120v-720h720v720H120Zm60-500h600v-160H180v160Zm220 220h160v-160H400v160Zm0 220h160v-160H400v160ZM180-400h160v-160H180v160Zm440 0h160v-160H620v160ZM180-180h160v-160H180v160Zm440 0h160v-160H620v160Z\"/>\n",
              "  </svg>\n",
              "    </button>\n",
              "\n",
              "  <style>\n",
              "    .colab-df-container {\n",
              "      display:flex;\n",
              "      gap: 12px;\n",
              "    }\n",
              "\n",
              "    .colab-df-convert {\n",
              "      background-color: #E8F0FE;\n",
              "      border: none;\n",
              "      border-radius: 50%;\n",
              "      cursor: pointer;\n",
              "      display: none;\n",
              "      fill: #1967D2;\n",
              "      height: 32px;\n",
              "      padding: 0 0 0 0;\n",
              "      width: 32px;\n",
              "    }\n",
              "\n",
              "    .colab-df-convert:hover {\n",
              "      background-color: #E2EBFA;\n",
              "      box-shadow: 0px 1px 2px rgba(60, 64, 67, 0.3), 0px 1px 3px 1px rgba(60, 64, 67, 0.15);\n",
              "      fill: #174EA6;\n",
              "    }\n",
              "\n",
              "    .colab-df-buttons div {\n",
              "      margin-bottom: 4px;\n",
              "    }\n",
              "\n",
              "    [theme=dark] .colab-df-convert {\n",
              "      background-color: #3B4455;\n",
              "      fill: #D2E3FC;\n",
              "    }\n",
              "\n",
              "    [theme=dark] .colab-df-convert:hover {\n",
              "      background-color: #434B5C;\n",
              "      box-shadow: 0px 1px 3px 1px rgba(0, 0, 0, 0.15);\n",
              "      filter: drop-shadow(0px 1px 2px rgba(0, 0, 0, 0.3));\n",
              "      fill: #FFFFFF;\n",
              "    }\n",
              "  </style>\n",
              "\n",
              "    <script>\n",
              "      const buttonEl =\n",
              "        document.querySelector('#df-7732704c-268a-4fa0-b30f-6d79742f48b0 button.colab-df-convert');\n",
              "      buttonEl.style.display =\n",
              "        google.colab.kernel.accessAllowed ? 'block' : 'none';\n",
              "\n",
              "      async function convertToInteractive(key) {\n",
              "        const element = document.querySelector('#df-7732704c-268a-4fa0-b30f-6d79742f48b0');\n",
              "        const dataTable =\n",
              "          await google.colab.kernel.invokeFunction('convertToInteractive',\n",
              "                                                    [key], {});\n",
              "        if (!dataTable) return;\n",
              "\n",
              "        const docLinkHtml = 'Like what you see? Visit the ' +\n",
              "          '<a target=\"_blank\" href=https://colab.research.google.com/notebooks/data_table.ipynb>data table notebook</a>'\n",
              "          + ' to learn more about interactive tables.';\n",
              "        element.innerHTML = '';\n",
              "        dataTable['output_type'] = 'display_data';\n",
              "        await google.colab.output.renderOutput(dataTable, element);\n",
              "        const docLink = document.createElement('div');\n",
              "        docLink.innerHTML = docLinkHtml;\n",
              "        element.appendChild(docLink);\n",
              "      }\n",
              "    </script>\n",
              "  </div>\n",
              "\n",
              "\n",
              "<div id=\"df-d962921b-2b27-4612-9439-f2937e63db59\">\n",
              "  <button class=\"colab-df-quickchart\" onclick=\"quickchart('df-d962921b-2b27-4612-9439-f2937e63db59')\"\n",
              "            title=\"Suggest charts.\"\n",
              "            style=\"display:none;\">\n",
              "\n",
              "<svg xmlns=\"http://www.w3.org/2000/svg\" height=\"24px\"viewBox=\"0 0 24 24\"\n",
              "     width=\"24px\">\n",
              "    <g>\n",
              "        <path d=\"M19 3H5c-1.1 0-2 .9-2 2v14c0 1.1.9 2 2 2h14c1.1 0 2-.9 2-2V5c0-1.1-.9-2-2-2zM9 17H7v-7h2v7zm4 0h-2V7h2v10zm4 0h-2v-4h2v4z\"/>\n",
              "    </g>\n",
              "</svg>\n",
              "  </button>\n",
              "\n",
              "<style>\n",
              "  .colab-df-quickchart {\n",
              "      --bg-color: #E8F0FE;\n",
              "      --fill-color: #1967D2;\n",
              "      --hover-bg-color: #E2EBFA;\n",
              "      --hover-fill-color: #174EA6;\n",
              "      --disabled-fill-color: #AAA;\n",
              "      --disabled-bg-color: #DDD;\n",
              "  }\n",
              "\n",
              "  [theme=dark] .colab-df-quickchart {\n",
              "      --bg-color: #3B4455;\n",
              "      --fill-color: #D2E3FC;\n",
              "      --hover-bg-color: #434B5C;\n",
              "      --hover-fill-color: #FFFFFF;\n",
              "      --disabled-bg-color: #3B4455;\n",
              "      --disabled-fill-color: #666;\n",
              "  }\n",
              "\n",
              "  .colab-df-quickchart {\n",
              "    background-color: var(--bg-color);\n",
              "    border: none;\n",
              "    border-radius: 50%;\n",
              "    cursor: pointer;\n",
              "    display: none;\n",
              "    fill: var(--fill-color);\n",
              "    height: 32px;\n",
              "    padding: 0;\n",
              "    width: 32px;\n",
              "  }\n",
              "\n",
              "  .colab-df-quickchart:hover {\n",
              "    background-color: var(--hover-bg-color);\n",
              "    box-shadow: 0 1px 2px rgba(60, 64, 67, 0.3), 0 1px 3px 1px rgba(60, 64, 67, 0.15);\n",
              "    fill: var(--button-hover-fill-color);\n",
              "  }\n",
              "\n",
              "  .colab-df-quickchart-complete:disabled,\n",
              "  .colab-df-quickchart-complete:disabled:hover {\n",
              "    background-color: var(--disabled-bg-color);\n",
              "    fill: var(--disabled-fill-color);\n",
              "    box-shadow: none;\n",
              "  }\n",
              "\n",
              "  .colab-df-spinner {\n",
              "    border: 2px solid var(--fill-color);\n",
              "    border-color: transparent;\n",
              "    border-bottom-color: var(--fill-color);\n",
              "    animation:\n",
              "      spin 1s steps(1) infinite;\n",
              "  }\n",
              "\n",
              "  @keyframes spin {\n",
              "    0% {\n",
              "      border-color: transparent;\n",
              "      border-bottom-color: var(--fill-color);\n",
              "      border-left-color: var(--fill-color);\n",
              "    }\n",
              "    20% {\n",
              "      border-color: transparent;\n",
              "      border-left-color: var(--fill-color);\n",
              "      border-top-color: var(--fill-color);\n",
              "    }\n",
              "    30% {\n",
              "      border-color: transparent;\n",
              "      border-left-color: var(--fill-color);\n",
              "      border-top-color: var(--fill-color);\n",
              "      border-right-color: var(--fill-color);\n",
              "    }\n",
              "    40% {\n",
              "      border-color: transparent;\n",
              "      border-right-color: var(--fill-color);\n",
              "      border-top-color: var(--fill-color);\n",
              "    }\n",
              "    60% {\n",
              "      border-color: transparent;\n",
              "      border-right-color: var(--fill-color);\n",
              "    }\n",
              "    80% {\n",
              "      border-color: transparent;\n",
              "      border-right-color: var(--fill-color);\n",
              "      border-bottom-color: var(--fill-color);\n",
              "    }\n",
              "    90% {\n",
              "      border-color: transparent;\n",
              "      border-bottom-color: var(--fill-color);\n",
              "    }\n",
              "  }\n",
              "</style>\n",
              "\n",
              "  <script>\n",
              "    async function quickchart(key) {\n",
              "      const quickchartButtonEl =\n",
              "        document.querySelector('#' + key + ' button');\n",
              "      quickchartButtonEl.disabled = true;  // To prevent multiple clicks.\n",
              "      quickchartButtonEl.classList.add('colab-df-spinner');\n",
              "      try {\n",
              "        const charts = await google.colab.kernel.invokeFunction(\n",
              "            'suggestCharts', [key], {});\n",
              "      } catch (error) {\n",
              "        console.error('Error during call to suggestCharts:', error);\n",
              "      }\n",
              "      quickchartButtonEl.classList.remove('colab-df-spinner');\n",
              "      quickchartButtonEl.classList.add('colab-df-quickchart-complete');\n",
              "    }\n",
              "    (() => {\n",
              "      let quickchartButtonEl =\n",
              "        document.querySelector('#df-d962921b-2b27-4612-9439-f2937e63db59 button');\n",
              "      quickchartButtonEl.style.display =\n",
              "        google.colab.kernel.accessAllowed ? 'block' : 'none';\n",
              "    })();\n",
              "  </script>\n",
              "</div>\n",
              "    </div>\n",
              "  </div>\n"
            ],
            "text/plain": [
              "   movieId                               title  \\\n",
              "0        1                    Toy Story (1995)   \n",
              "1        2                      Jumanji (1995)   \n",
              "2        3             Grumpier Old Men (1995)   \n",
              "3        4            Waiting to Exhale (1995)   \n",
              "4        5  Father of the Bride Part II (1995)   \n",
              "\n",
              "                                        genres  \n",
              "0  Adventure|Animation|Children|Comedy|Fantasy  \n",
              "1                   Adventure|Children|Fantasy  \n",
              "2                               Comedy|Romance  \n",
              "3                         Comedy|Drama|Romance  \n",
              "4                                       Comedy  "
            ]
          },
          "execution_count": 3,
          "metadata": {},
          "output_type": "execute_result"
        }
      ],
      "source": [
        "# Import the Movies dataset\n",
        "movies = pd.read_csv('/content/movies.csv')\n",
        "movies.head()"
      ]
    },
    {
      "cell_type": "code",
      "execution_count": 4,
      "metadata": {
        "id": "oPqXndZEhhFt"
      },
      "outputs": [],
      "source": [
        "# Load the dataset\n",
        "data = pd.read_csv(\"/content/movies.csv\")"
      ]
    },
    {
      "cell_type": "code",
      "execution_count": 5,
      "metadata": {
        "id": "-QJ0AGR8hjr4"
      },
      "outputs": [],
      "source": [
        "# Filter movies with Comedy and Fantasy genres\n",
        "comedy_fantasy_movies = data[data['genres'].str.contains('Comedy') & data['genres'].str.contains('Fantasy')]\n"
      ]
    },
    {
      "cell_type": "code",
      "execution_count": 6,
      "metadata": {
        "id": "ijO81oLXhmck"
      },
      "outputs": [],
      "source": [
        "# Extract the movie titles\n",
        "movie_titles = comedy_fantasy_movies['title'].tolist()"
      ]
    },
    {
      "cell_type": "code",
      "execution_count": 7,
      "metadata": {
        "id": "4lDylU7_hrHG"
      },
      "outputs": [],
      "source": [
        "# TF-IDF vectorization\n",
        "tfidf_vectorizer = TfidfVectorizer(max_features=1000, stop_words='english')\n",
        "tfidf_matrix = tfidf_vectorizer.fit_transform(movie_titles)"
      ]
    },
    {
      "cell_type": "code",
      "execution_count": 8,
      "metadata": {
        "colab": {
          "base_uri": "https://localhost:8080/",
          "height": 129
        },
        "id": "5VuX0f_Khufp",
        "outputId": "2e6d6071-811a-4802-a7a2-aa7b9baad70e"
      },
      "outputs": [
        {
          "name": "stderr",
          "output_type": "stream",
          "text": [
            "/usr/local/lib/python3.10/dist-packages/sklearn/cluster/_kmeans.py:870: FutureWarning: The default value of `n_init` will change from 10 to 'auto' in 1.4. Set the value of `n_init` explicitly to suppress the warning\n",
            "  warnings.warn(\n"
          ]
        },
        {
          "data": {
            "text/html": [
              "<style>#sk-container-id-1 {color: black;background-color: white;}#sk-container-id-1 pre{padding: 0;}#sk-container-id-1 div.sk-toggleable {background-color: white;}#sk-container-id-1 label.sk-toggleable__label {cursor: pointer;display: block;width: 100%;margin-bottom: 0;padding: 0.3em;box-sizing: border-box;text-align: center;}#sk-container-id-1 label.sk-toggleable__label-arrow:before {content: \"▸\";float: left;margin-right: 0.25em;color: #696969;}#sk-container-id-1 label.sk-toggleable__label-arrow:hover:before {color: black;}#sk-container-id-1 div.sk-estimator:hover label.sk-toggleable__label-arrow:before {color: black;}#sk-container-id-1 div.sk-toggleable__content {max-height: 0;max-width: 0;overflow: hidden;text-align: left;background-color: #f0f8ff;}#sk-container-id-1 div.sk-toggleable__content pre {margin: 0.2em;color: black;border-radius: 0.25em;background-color: #f0f8ff;}#sk-container-id-1 input.sk-toggleable__control:checked~div.sk-toggleable__content {max-height: 200px;max-width: 100%;overflow: auto;}#sk-container-id-1 input.sk-toggleable__control:checked~label.sk-toggleable__label-arrow:before {content: \"▾\";}#sk-container-id-1 div.sk-estimator input.sk-toggleable__control:checked~label.sk-toggleable__label {background-color: #d4ebff;}#sk-container-id-1 div.sk-label input.sk-toggleable__control:checked~label.sk-toggleable__label {background-color: #d4ebff;}#sk-container-id-1 input.sk-hidden--visually {border: 0;clip: rect(1px 1px 1px 1px);clip: rect(1px, 1px, 1px, 1px);height: 1px;margin: -1px;overflow: hidden;padding: 0;position: absolute;width: 1px;}#sk-container-id-1 div.sk-estimator {font-family: monospace;background-color: #f0f8ff;border: 1px dotted black;border-radius: 0.25em;box-sizing: border-box;margin-bottom: 0.5em;}#sk-container-id-1 div.sk-estimator:hover {background-color: #d4ebff;}#sk-container-id-1 div.sk-parallel-item::after {content: \"\";width: 100%;border-bottom: 1px solid gray;flex-grow: 1;}#sk-container-id-1 div.sk-label:hover label.sk-toggleable__label {background-color: #d4ebff;}#sk-container-id-1 div.sk-serial::before {content: \"\";position: absolute;border-left: 1px solid gray;box-sizing: border-box;top: 0;bottom: 0;left: 50%;z-index: 0;}#sk-container-id-1 div.sk-serial {display: flex;flex-direction: column;align-items: center;background-color: white;padding-right: 0.2em;padding-left: 0.2em;position: relative;}#sk-container-id-1 div.sk-item {position: relative;z-index: 1;}#sk-container-id-1 div.sk-parallel {display: flex;align-items: stretch;justify-content: center;background-color: white;position: relative;}#sk-container-id-1 div.sk-item::before, #sk-container-id-1 div.sk-parallel-item::before {content: \"\";position: absolute;border-left: 1px solid gray;box-sizing: border-box;top: 0;bottom: 0;left: 50%;z-index: -1;}#sk-container-id-1 div.sk-parallel-item {display: flex;flex-direction: column;z-index: 1;position: relative;background-color: white;}#sk-container-id-1 div.sk-parallel-item:first-child::after {align-self: flex-end;width: 50%;}#sk-container-id-1 div.sk-parallel-item:last-child::after {align-self: flex-start;width: 50%;}#sk-container-id-1 div.sk-parallel-item:only-child::after {width: 0;}#sk-container-id-1 div.sk-dashed-wrapped {border: 1px dashed gray;margin: 0 0.4em 0.5em 0.4em;box-sizing: border-box;padding-bottom: 0.4em;background-color: white;}#sk-container-id-1 div.sk-label label {font-family: monospace;font-weight: bold;display: inline-block;line-height: 1.2em;}#sk-container-id-1 div.sk-label-container {text-align: center;}#sk-container-id-1 div.sk-container {/* jupyter's `normalize.less` sets `[hidden] { display: none; }` but bootstrap.min.css set `[hidden] { display: none !important; }` so we also need the `!important` here to be able to override the default hidden behavior on the sphinx rendered scikit-learn.org. See: https://github.com/scikit-learn/scikit-learn/issues/21755 */display: inline-block !important;position: relative;}#sk-container-id-1 div.sk-text-repr-fallback {display: none;}</style><div id=\"sk-container-id-1\" class=\"sk-top-container\"><div class=\"sk-text-repr-fallback\"><pre>KMeans(n_clusters=3)</pre><b>In a Jupyter environment, please rerun this cell to show the HTML representation or trust the notebook. <br />On GitHub, the HTML representation is unable to render, please try loading this page with nbviewer.org.</b></div><div class=\"sk-container\" hidden><div class=\"sk-item\"><div class=\"sk-estimator sk-toggleable\"><input class=\"sk-toggleable__control sk-hidden--visually\" id=\"sk-estimator-id-1\" type=\"checkbox\" checked><label for=\"sk-estimator-id-1\" class=\"sk-toggleable__label sk-toggleable__label-arrow\">KMeans</label><div class=\"sk-toggleable__content\"><pre>KMeans(n_clusters=3)</pre></div></div></div></div></div>"
            ],
            "text/plain": [
              "KMeans(n_clusters=3)"
            ]
          },
          "execution_count": 8,
          "metadata": {},
          "output_type": "execute_result"
        }
      ],
      "source": [
        "# Perform K-means clustering\n",
        "k = 3  # You can change the number of clusters as needed\n",
        "kmeans = KMeans(n_clusters=k)\n",
        "kmeans.fit(tfidf_matrix)"
      ]
    },
    {
      "cell_type": "code",
      "execution_count": 9,
      "metadata": {
        "colab": {
          "base_uri": "https://localhost:8080/"
        },
        "id": "-sKhb-5Jh1WA",
        "outputId": "cf7199d7-003b-422f-90fa-1abb14f03881"
      },
      "outputs": [
        {
          "name": "stderr",
          "output_type": "stream",
          "text": [
            "<ipython-input-9-bd6e9c584132>:2: SettingWithCopyWarning: \n",
            "A value is trying to be set on a copy of a slice from a DataFrame.\n",
            "Try using .loc[row_indexer,col_indexer] = value instead\n",
            "\n",
            "See the caveats in the documentation: https://pandas.pydata.org/pandas-docs/stable/user_guide/indexing.html#returning-a-view-versus-a-copy\n",
            "  comedy_fantasy_movies['cluster'] = kmeans.labels_\n"
          ]
        }
      ],
      "source": [
        "# Add cluster labels to the dataset\n",
        "comedy_fantasy_movies['cluster'] = kmeans.labels_"
      ]
    },
    {
      "cell_type": "code",
      "execution_count": 10,
      "metadata": {
        "colab": {
          "base_uri": "https://localhost:8080/"
        },
        "id": "adnXIyARh3z6",
        "outputId": "0096308f-00ec-4f6d-a44b-fde833a5c7ac"
      },
      "outputs": [
        {
          "name": "stdout",
          "output_type": "stream",
          "text": [
            "Cluster 1:\n",
            "['Toy Story (1995)', 'Reckless (1995)', 'Gordy (1995)', \"Kid in King Arthur's Court, A (1995)\", 'Santa Clause, The (1994)', 'Flintstones, The (1994)', 'Mask, The (1994)', 'Ghost (1990)', 'Space Jam (1996)', 'Nutty Professor, The (1996)', 'Kazaam (1996)', \"Joe's Apartment (1996)\", 'Matilda (1996)', 'Herbie Rides Again (1974)', 'Mary Poppins (1964)', 'Aladdin and the King of Thieves (1996)', 'Willy Wonka & the Chocolate Factory (1971)', 'Drop Dead Fred (1991)', 'Monty Python and the Holy Grail (1975)', 'Lesson Faust (1994)', 'Princess Bride, The (1987)', 'Dead Alive (Braindead) (1992)', 'Evil Dead II (Dead by Dawn) (1987)', 'Young Frankenstein (1974)', 'Michael (1996)', 'Flubber (1997)', 'Borrowers, The (1997)', 'Goonies, The (1985)', 'Freaky Friday (1977)', 'Absent-Minded Professor, The (1961)', 'Devil and Max Devlin, The (1981)', 'Honey, I Shrunk the Kids (1989)', 'Purple Rose of Cairo, The (1985)', 'Splash (1984)', 'All Dogs Go to Heaven (1989)', 'Addams Family, The (1991)', 'Weird Science (1985)', 'House (1986)', 'House II: The Second Story (1987)', 'Beetlejuice (1988)', 'Toys (1992)', 'Antz (1998)', 'Pleasantville (1998)', 'Mummy, The (1999)', \"William Shakespeare's A Midsummer Night's Dream (1999)\", 'Ghostbusters II (1989)', 'Mystery Men (1999)', 'Golden Child, The (1986)', 'Big (1988)', 'Yellow Submarine (1968)', 'Time of the Gypsies (Dom za vesanje) (1989)', 'Time Bandits (1981)', 'Who Framed Roger Rabbit? (1988)', 'Being John Malkovich (1999)', 'Dogma (1999)', 'Babes in Toyland (1934)', 'Scrooged (1988)', 'Harvey (1950)', 'Fisher King, The (1991)', 'Toy Story 2 (1999)', 'Stuart Little (1999)', 'Death Becomes Her (1992)', 'Defending Your Life (1991)', 'Date with an Angel (1987)', 'Teenage Mutant Ninja Turtles (1990)', 'Hook (1991)', 'Bell, Book and Candle (1958)', 'Big Trouble in Little China (1986)', 'Adventures of Rocky and Bullwinkle, The (2000)', 'Kid, The (2000)', 'How the Grinch Stole Christmas (a.k.a. The Grinch) (2000)', 'Dungeons & Dragons (2000)', \"Emperor's New Groove, The (2000)\", 'Maid to Order (1987)', 'Down to Earth (2001)', 'Price of Milk, The (2000)', 'Monkeybone (2001)', 'Just Visiting (2001)', 'Shrek (2001)', 'Alice (1990)', '18 Again! (1988)', 'Adventures of Baron Munchausen, The (1988)', 'Milagro Beanfield War (1988)', 'Erik the Viking (1989)', 'How to Get Ahead in Advertising (1989)', 'Phantom of the Paradise (1974)', 'Monsters, Inc. (2001)', 'Shallow Hal (2001)', 'Black Knight (2001)', 'Jabberwocky (1977)', \"Bill & Ted's Bogus Journey (1991)\", 'Oh, God! (1977)', 'Scooby-Doo (2002)', 'Like Mike (2002)', 'Simone (S1m0ne) (2002)', 'Modern Problems (1981)', 'Santa Clause 2, The (2002)', 'Pinocchio (2002)', 'Wiz, The (1978)', 'Bruce Almighty (2003)', 'Pirates of the Caribbean: The Curse of the Black Pearl (2003)', 'Freaky Friday (2003)', 'Discreet Charm of the Bourgeoisie, The (Charme discret de la bourgeoisie, Le) (1972)', 'Medallion, The (2003)', 'Triplets of Belleville, The (Les triplettes de Belleville) (2003)', 'Interstate 60 (2002)', 'Elf (2003)', 'Haunted Mansion, The (2003)', 'Mr. Destiny (1990)', 'Teen Wolf (1985)', 'Witches of Eastwick, The (1987)', \"Midsummer Night's Dream, A (1935)\", 'Juliet of the Spirits (Giulietta degli spiriti) (1965)', 'Cool World (1992)', 'Chitty Chitty Bang Bang (1968)', 'Allegro non troppo (1977)', 'Ella Enchanted (2004)', '13 Going on 30 (2004)', 'Versus (2000)', 'Bedazzled (1967)', '*batteries not included (1987)', 'Stepford Wives, The (2004)', 'Robot Carnival (Roboto kânibauru) (1987)', 'Luna Papa (1999)', 'Into the Woods (1991)', 'All of Me (1984)', 'Exterminating Angel, The (Ángel exterminador, El) (1962)', 'P.S. (2004)', 'Sherlock Jr. (1924)', 'Here Comes Mr. Jordan (1941)', \"Twelve Tasks of Asterix, The (Les douze travaux d'Astérix) (1976)\", 'Ghost Dad (1990)', 'Mannequin 2: On the Move (1991)', 'Porco Rosso (Crimson Pig) (Kurenai no buta) (1992)', 'Addams Family Reunion (1998)', '10th Kingdom, The (2000)', 'Nine Lives of Tomas Katz, The (2000)', 'Monday (2000)', 'Asterix & Obelix: Mission Cleopatra (Astérix & Obélix: Mission Cléopâtre) (2002)', 'Nothing (2003)', \"Lemony Snicket's A Series of Unfortunate Events (2004)\", 'Millions (2004)', 'Charlie and the Chocolate Factory (2005)', 'Life Aquatic with Steve Zissou, The (2004)', 'Fat Albert (2004)', 'Son of the Mask (2005)', 'Robots (2005)', 'Pom Poko (a.k.a. Raccoon War, The) (Heisei tanuki gassen pompoko) (1994)', \"Boccaccio '70 (1962)\", 'Bewitched (2005)', 'Asterix & Obelix vs. Caesar (Astérix et Obélix contre César) (1999)', 'Valiant (2005)', 'Brothers Grimm, The (2005)', 'Just Like Heaven (2005)', 'Corpse Bride (2005)', 'Great Yokai War, The (Yôkai daisensô) (2005)', 'Casper Meets Wendy (1998)', 'Bird People in China, The (Chûgoku no chôjin) (1998)', 'Nanny McPhee (2005)', 'Leprechaun 2 (1994)', 'Leprechaun 3 (1995)', 'Leprechaun 4: In Space (1997)', 'Mind Game (2004)', 'Angel-A (2005)', 'Icicle Thief, The (Ladri di saponette) (1989)', 'TMNT (Teenage Mutant Ninja Turtles) (2007)', 'How the Grinch Stole Christmas! (1966)', 'Aqua Teen Hunger Force Colon Movie Film for Theaters (2007)', 'Shrek the Third (2007)', \"Pirates of the Caribbean: At World's End (2007)\", 'Librarian: Quest for the Spear, The (2004)', 'Legend of Sleepy Hollow, The (1980)', 'Evan Almighty (2007)', 'Stardust (2007)', 'Enchanted (2007)', \"Nim's Island (2008)\", 'Forbidden Kingdom, The (2008)', 'Hancock (2008)', 'Frosty the Snowman (1969)', 'Machine Girl, The (Kataude mashin gâru) (2008)', 'Spirit, The (2008)', 'Ghost Town (2008)', 'FLCL (2000)', 'American Carol, An (2008)', \"Futurama: Bender's Game (2008)\", 'Shrek the Halls (2007)', 'Tale of Despereaux, The (2008)', 'Gamers, The: Dorkness Rising (2008)', 'Dead Like Me: Life After Death (2009)', 'Imagine That (2009)', 'Ghosts of Girlfriends Past (2009)', \"Cirque du Freak: The Vampire's Assistant (2009)\", 'Partly Cloudy (2009)', \"Mickey's Once Upon a Christmas (1999)\", 'Asterix at the Olympic Games (Astérix aux jeux olympiques) (2008)', 'Tooth Fairy (2010)', 'Toy Story 3 (2010)', 'Shrek Forever After (a.k.a. Shrek: The Final Chapter) (2010)', 'TiMER (2009)', 'South Park: Imaginationland (2008)', \"Sorcerer's Apprentice, The (2010)\", 'Scott Pilgrim vs. the World (2010)', 'Tangled (2010)', \"Gulliver's Travels (2010)\", 'Green Hornet, The (2011)', 'Gnomeo & Juliet (2011)', 'Midnight in Paris (2011)', 'Your Highness (2011)', 'Puss in Boots (2011)', 'Girl Walks Into a Bar (2011)', 'Puss in Boots (Nagagutsu o haita neko) (1969)', 'Mirror Mirror (2012)', 'Presto (2008)', 'Ted (2012)', 'Goodbye Charlie (1964)', 'Ruby Sparks (2012)', 'Odd Life of Timothy Green, The (2012)', 'My Left Eye Sees Ghosts (Ngo joh aan gin diy gwai) (2002)', \"'Hellboy': The Seeds of Creation (2004)\", 'John Dies at the End (2012)', 'Journey to the West: Conquering the Demons (Daai wa sai you chi Chui mo chun kei) (2013)', 'Brass Teapot, The (2012)', 'Rapture-Palooza (2013)', 'R.I.P.D. (2013)', 'Turbo (2013)', 'Cloudy with a Chance of Meatballs 2 (2013)', 'Frozen (2013)', 'The Lego Movie (2014)', 'Knights of Badassdom (2013)', 'Dragonheart 2: A New Beginning (2000)', 'Into the Woods (2014)', 'Night at the Museum: Secret of the Tomb (2014)', 'PK (2014)', 'Stuart Little 3: Call of the Wild (2005)', 'Halloweentown (1998)', 'Halloweentown High (2004)', \"Daddy, I'm A Zombie (2012)\", 'The Cobbler (2015)', 'Home (2015)', 'Willy/Milly (1986)', 'Kung Fury (2015)', 'That Munchhausen (1979)', 'Inside Out (2015)', 'Krampus (2015)', 'The Good Dinosaur (2015)', 'Anomalisa (2015)', 'Ordinary Miracle (1978)', 'L.A. Slasher (2015)', 'Wizards of Waverly Place: The Movie (2009)', 'The Love Bug (1997)', 'Welcome to Happiness (2015)', 'Rabbits (2002)', 'Long Live Ghosts! (1977)', 'Tears for Sale (2008)', 'Maximum Ride (2016)', 'While You Were Fighting: A Thor Mockumentary (2016)', 'Moana (2016)', 'Life-Size (2000)', \"Last Year's Snow Was Falling (1983)\", 'Wow! A Talking Fish! (1983)', 'Porky in Wackyland (1938)', 'Sorry to Bother You (2018)', 'Ant-Man and the Wasp (2018)', 'The Man Who Killed Don Quixote (2018)', 'Black Butler: Book of the Atlantic (2017)', 'No Game No Life: Zero (2017)']\n",
            "Cluster 2:\n",
            "['Aquamarine (2006)', 'Shaggy Dog, The (2006)', 'Wild, The (2006)', 'Click (2006)', 'My Super Ex-Girlfriend (2006)', 'Scoop (2006)', 'Night at the Museum (2006)', 'Stranger than Fiction (2006)', 'Ant Bully, The (2006)', 'Zoom (2006)', 'Science of Sleep, The (La science des rêves) (2006)', 'Santa Clause 3: The Escape Clause, The (2006)', \"Charlotte's Web (2006)\", 'Penelope (2006)', 'Asterix and the Vikings (Astérix et les Vikings) (2006)']\n",
            "Cluster 3:\n",
            "['Addams Family Values (1993)', 'Last Action Hero (1993)', 'Super Mario Bros. (1993)', 'Visitors, The (Visiteurs, Les) (1993)', 'Army of Darkness (1993)', 'Groundhog Day (1993)', 'Hocus Pocus (1993)', 'Teenage Mutant Ninja Turtles III (1993)', 'Heart and Souls (1993)', 'Rookie of the Year (1993)', 'Arizona Dream (1993)', \"It's Such a Beautiful Day (2012)\"]\n"
          ]
        }
      ],
      "source": [
        "# Print movies in each cluster\n",
        "for cluster_num in range(k):\n",
        "    cluster_movies = comedy_fantasy_movies[comedy_fantasy_movies['cluster'] == cluster_num]\n",
        "    print(f\"Cluster {cluster_num + 1}:\")\n",
        "    print(cluster_movies['title'].tolist())"
      ]
    }
  ],
  "metadata": {
    "colab": {
      "authorship_tag": "ABX9TyNvR43xv6I7P5l9Mdl49nd7",
      "include_colab_link": true,
      "provenance": []
    },
    "kernelspec": {
      "display_name": "Python 3",
      "name": "python3"
    },
    "language_info": {
      "name": "python"
    }
  },
  "nbformat": 4,
  "nbformat_minor": 0
}
