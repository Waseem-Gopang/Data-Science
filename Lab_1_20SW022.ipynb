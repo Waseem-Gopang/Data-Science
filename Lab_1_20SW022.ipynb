{
  "nbformat": 4,
  "nbformat_minor": 0,
  "metadata": {
    "colab": {
      "provenance": [],
      "authorship_tag": "ABX9TyNTWiS7AKNBRDM6jbFuWjhu",
      "include_colab_link": true
    },
    "kernelspec": {
      "name": "python3",
      "display_name": "Python 3"
    },
    "language_info": {
      "name": "python"
    }
  },
  "cells": [
    {
      "cell_type": "markdown",
      "metadata": {
        "id": "view-in-github",
        "colab_type": "text"
      },
      "source": [
        "<a href=\"https://colab.research.google.com/github/Waseem-Gopang/Data-Science/blob/main/Lab_1_20SW022.ipynb\" target=\"_parent\"><img src=\"https://colab.research.google.com/assets/colab-badge.svg\" alt=\"Open In Colab\"/></a>"
      ]
    },
    {
      "cell_type": "code",
      "execution_count": null,
      "metadata": {
        "id": "bJVvVP0TMBlT"
      },
      "outputs": [],
      "source": []
    },
    {
      "cell_type": "markdown",
      "source": [
        "Lab#1\n",
        "\n",
        "Roll_No: 20SW022\n",
        "\n",
        "Section: 2"
      ],
      "metadata": {
        "id": "eV2SQnxJMGcv"
      }
    },
    {
      "cell_type": "markdown",
      "source": [
        "Lab#1\n",
        "\n",
        "#Task#01\n",
        "# Write two lines of code below, each assigning a value to a variable\n",
        "# Now write a print statement using .format() to print out a sentence and the\n",
        "# values of both of the variables\n",
        "\n"
      ],
      "metadata": {
        "id": "nxzjLmcqMS2X"
      }
    },
    {
      "cell_type": "code",
      "source": [
        "name=\"Waseem\"\n",
        "department=\"Pakistan Custom Service\"\n",
        "print(\"My name is {} and I belongs to {} department\".format(name,department))"
      ],
      "metadata": {
        "colab": {
          "base_uri": "https://localhost:8080/"
        },
        "id": "Gn1HPPO_NbGW",
        "outputId": "5d247e34-7eb2-46cd-bdcb-0cb24f138150"
      },
      "execution_count": null,
      "outputs": [
        {
          "output_type": "stream",
          "name": "stdout",
          "text": [
            "My name is Waseem and I belongs to Pakistan Custom Service department\n"
          ]
        }
      ]
    },
    {
      "cell_type": "markdown",
      "source": [
        "#Task#2\n",
        "# Browse the complete list of string methods at:\n",
        "# https://docs.python.org/3/library/stdtypes.html#string-methods\n",
        "# and try them out here"
      ],
      "metadata": {
        "id": "iUDRinlwPZNX"
      }
    },
    {
      "cell_type": "code",
      "source": [
        "department=\"pakistan Administration Service\"\n",
        "print(department.capitalize())\n",
        "print(department.casefold())\n",
        "print(department.count(\"Service\"))\n",
        "print(department.encode())\n",
        "print(department.find(\"pakistan Administration Service\"))\n",
        "print(department.isalnum())\n",
        "print(department.islower())\n",
        "print(department.center(120))\n",
        "print(department.swapcase())\n",
        "print(department.splitlines())\n",
        "print(department.endswith(\"Service\"))\n",
        "print(department.expandtabs(20))\n",
        "print(department.replace(\"pakistan Administration Service\",\"Police Service of Pakistan\"))\n",
        "print(department.upper())\n",
        "print(department.rpartition(\"Administration\"))\n"
      ],
      "metadata": {
        "colab": {
          "base_uri": "https://localhost:8080/"
        },
        "id": "iM7O1TtuPjYW",
        "outputId": "fc9d23b0-377b-4dd6-a4ec-781318b9d57c"
      },
      "execution_count": null,
      "outputs": [
        {
          "output_type": "stream",
          "name": "stdout",
          "text": [
            "Pakistan administration service\n",
            "pakistan administration service\n",
            "1\n",
            "b'pakistan Administration Service'\n",
            "0\n",
            "False\n",
            "False\n",
            "                                            pakistan Administration Service                                             \n",
            "PAKISTAN aDMINISTRATION sERVICE\n",
            "['pakistan Administration Service']\n",
            "True\n",
            "pakistan Administration Service\n",
            "Police Service of Pakistan\n",
            "PAKISTAN ADMINISTRATION SERVICE\n",
            "('pakistan ', 'Administration', ' Service')\n"
          ]
        }
      ]
    },
    {
      "cell_type": "markdown",
      "source": [
        "Task#03\n",
        "#List Indexing\n",
        "#Use list indexing to determine how many days are in a particular month based on the integer variable month , and store that value in the integer variable num_days . For example, if month is 8, num_days should be set to 31, since the eighth month, August, has 31 days.Remember to account for zero-based indexing!\n"
      ],
      "metadata": {
        "id": "fNQMNFFFUnwA"
      }
    },
    {
      "cell_type": "code",
      "source": [
        "month=2\n",
        "days_in_month=[31,28,31,30,31,30,31,31,30,31,30,31]\n",
        "num_of_days=days_in_month[month-1]\n",
        "print(num_of_days)"
      ],
      "metadata": {
        "colab": {
          "base_uri": "https://localhost:8080/"
        },
        "id": "o4QbbXzZVMvB",
        "outputId": "f7665c6b-2b9d-4040-aceb-ee312bf63d40"
      },
      "execution_count": null,
      "outputs": [
        {
          "output_type": "stream",
          "name": "stdout",
          "text": [
            "28\n"
          ]
        }
      ]
    },
    {
      "cell_type": "markdown",
      "source": [
        "Task#04\n",
        "#Select the three most recent dates from this list using list slicing notation.\n",
        "# Hint: negative indexes work in slices!\n",
        "#eclipse_dates = ['June 21, 2001', 'December 4, 2002', 'November 23, 2003',\n",
        "# 'March 29, 2006', 'August 1, 2008', 'July 22, 2009',\n",
        "#'July 11, 2010', 'November 13, 2012', 'March 20, 2015', 'March 9, 2016']\n",
        "\n",
        "\n",
        "# TODO: Modify this line so it prints the last three elements of the\n",
        "#list\n",
        "#print(eclipse_dates)"
      ],
      "metadata": {
        "id": "xmAMdgpHYNCM"
      }
    },
    {
      "cell_type": "code",
      "source": [
        "eclipse_dates = ['June 21, 2001', 'December 4, 2002', 'November 23, 2003',\n",
        "'March 29, 2006', 'August 1, 2008', 'July 22, 2009',\n",
        "'July 11, 2010', 'November 13, 2012', 'March 20, 2015', 'March 9, 2016']\n",
        "print(eclipse_dates[-3:])"
      ],
      "metadata": {
        "colab": {
          "base_uri": "https://localhost:8080/"
        },
        "id": "e3m67yzUYmN8",
        "outputId": "1a9b196a-53a8-475e-d9ad-825f5739b2bc"
      },
      "execution_count": null,
      "outputs": [
        {
          "output_type": "stream",
          "name": "stdout",
          "text": [
            "['November 13, 2012', 'March 20, 2015', 'March 9, 2016']\n"
          ]
        }
      ]
    },
    {
      "cell_type": "markdown",
      "source": [
        "#Task#05\n",
        "#Store student’s data using nested dictionary."
      ],
      "metadata": {
        "id": "hkRmxoeFZk6u"
      }
    },
    {
      "cell_type": "code",
      "source": [
        "students={\"20SW022\":{\"name\":\"waseem\",\"age\":\"20\",\"department\":\"software\"},\n",
        "          \"20SW046\":{\"name\":\"zameer\",\"age\":\"24\",\"department\":\"software\"},\n",
        "          \"57CTP022\":{\"name\":\"waseem\",\"age\":\"28\",\"department\":\"Pakistan Custom Service\"},\n",
        "          \"49CTP035\":{\"name\":\"Hamid\",\"age\":\"27\",\"department\":\"Police Service of Pakistan\"},\n",
        "          \"21SW022\":{\"name\":\"Ali\",\"age\":\"18\",\"department\":\"software\"}}\n",
        "print(students)"
      ],
      "metadata": {
        "colab": {
          "base_uri": "https://localhost:8080/"
        },
        "id": "7I7CbD3DZpLK",
        "outputId": "c6b4a3c1-99d6-403d-a008-c8581e68c0f9"
      },
      "execution_count": null,
      "outputs": [
        {
          "output_type": "stream",
          "name": "stdout",
          "text": [
            "{'20SW022': {'name': 'waseem', 'age': '20', 'department': 'software'}, '20SW046': {'name': 'zameer', 'age': '24', 'department': 'software'}, '57CTP022': {'name': 'waseem', 'age': '28', 'department': 'Pakistan Custom Service'}, '49CTP035': {'name': 'Hamid', 'age': '27', 'department': 'Police Service of Pakistan'}, '21SW022': {'name': 'Ali', 'age': '18', 'department': 'software'}}\n"
          ]
        }
      ]
    }
  ]
}