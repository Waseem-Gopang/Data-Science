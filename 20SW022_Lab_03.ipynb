{
  "nbformat": 4,
  "nbformat_minor": 0,
  "metadata": {
    "colab": {
      "provenance": [],
      "authorship_tag": "ABX9TyOeHPrP/6dZOrtXmcqcLZk9",
      "include_colab_link": true
    },
    "kernelspec": {
      "name": "python3",
      "display_name": "Python 3"
    },
    "language_info": {
      "name": "python"
    }
  },
  "cells": [
    {
      "cell_type": "markdown",
      "metadata": {
        "id": "view-in-github",
        "colab_type": "text"
      },
      "source": [
        "<a href=\"https://colab.research.google.com/github/Waseem-Gopang/Data-Science/blob/main/20SW022_Lab_03.ipynb\" target=\"_parent\"><img src=\"https://colab.research.google.com/assets/colab-badge.svg\" alt=\"Open In Colab\"/></a>"
      ]
    },
    {
      "cell_type": "markdown",
      "source": [
        "#Task#01\n",
        "#Population Density Function\n",
        "Write a function named population_density that takes two\n",
        "arguments, population and land_area , and returns a population density\n",
        "calculated from those values. I've included two test cases that you can use to verify that your function works correctly. Once you've written your function, use the Test Run button to test your code."
      ],
      "metadata": {
        "id": "0i9GdEamLm8t"
      }
    },
    {
      "cell_type": "code",
      "source": [
        "def population_density(population,land_area):\n",
        "  return population/land_area\n",
        "\n",
        "test1 = population_density(10, 1)\n",
        "expected_result1 = 10\n",
        "print(\"expected result: {}, actual result:{}\".format(expected_result1, test1))\n",
        "test2 = population_density(864816, 121.4)\n",
        "expected_result2 = 7123.6902801\n",
        "print(\"expected result: {}, actual result:{}\".format(expected_result2, test2))\n"
      ],
      "metadata": {
        "colab": {
          "base_uri": "https://localhost:8080/"
        },
        "id": "n8o_fmShL4BX",
        "outputId": "71ae4fe3-4379-47b4-b2a3-5540e6bcbcd4"
      },
      "execution_count": null,
      "outputs": [
        {
          "output_type": "stream",
          "name": "stdout",
          "text": [
            "expected result: 10, actual result:10.0\n",
            "expected result: 7123.6902801, actual result:7123.690280065897\n"
          ]
        }
      ]
    },
    {
      "cell_type": "markdown",
      "source": [
        "#Task#02\n",
        "Write a function named readable_timedelta . The function should take one\n",
        "argument, an integer days , and return a string that says how many weeks and days that is. For example, calling the function and printing the result like this:\n",
        "print(readable_timedelta(10))\n",
        "should output the following:\n",
        "1 week(s) and 3 day(s).\n"
      ],
      "metadata": {
        "id": "mT8sl-g_M9LV"
      }
    },
    {
      "cell_type": "code",
      "source": [
        "def readable_timedelta(days):\n",
        " week=int(days/7)\n",
        " days=int(days%7)\n",
        " return \"{} week(s) and {} day(s) \".format(week,days)\n",
        "\n",
        "print(readable_timedelta(10))\n"
      ],
      "metadata": {
        "colab": {
          "base_uri": "https://localhost:8080/"
        },
        "id": "wecxcbDVNXZr",
        "outputId": "240baa5a-ed92-402b-869d-9fe3f0338341"
      },
      "execution_count": null,
      "outputs": [
        {
          "output_type": "stream",
          "name": "stdout",
          "text": [
            "1 week(s) and 3 day(s) \n"
          ]
        }
      ]
    },
    {
      "cell_type": "markdown",
      "source": [
        "#Task#03\n",
        "#Lambda with Map\n",
        "map() is a higher-order built-in function that takes a function and iterable as inputs, and returns an iterator that applies the function to each element of the iterable. The\n",
        "code below uses map() to find the mean of each list in numbers to create the list averages . Give it a test run to see what happens.\n",
        "Rewrite this code to be more concise by replacing the mean function with lambda expression defined within the call to map() ."
      ],
      "metadata": {
        "id": "jw0MVsG2PhnZ"
      }
    },
    {
      "cell_type": "code",
      "source": [
        "numbers = [\n",
        " [34, 63, 88, 71, 29],\n",
        " [90, 78, 51, 27, 45],\n",
        " [63, 37, 85, 46, 22],\n",
        " [51, 22, 34, 11, 18]\n",
        " ]\n",
        "mean=lambda num_list : sum(num_list)/len(num_list)\n",
        "averages = list(map(mean, numbers))\n",
        "print(averages)\n"
      ],
      "metadata": {
        "colab": {
          "base_uri": "https://localhost:8080/"
        },
        "id": "YCR3pwYtQB_E",
        "outputId": "bce6d0ac-9cfd-47a2-c8f4-69e472e470fb"
      },
      "execution_count": null,
      "outputs": [
        {
          "output_type": "stream",
          "name": "stdout",
          "text": [
            "[57.0, 58.2, 50.6, 27.2]\n"
          ]
        }
      ]
    },
    {
      "cell_type": "markdown",
      "source": [
        "#Task#04\n",
        "#Lambda with Filter\n",
        "filter() is a higher-order built-in function that takes a function and iterable as inputs and returns an iterator with the elements from the iterable for which the function returns True. The code below uses filter() to get the names in cities that are fewer than 10 characters long to create the list short_cities .\n",
        "Give it a test run to see what happens.\n",
        "Rewrite this code to be more concise by replacing the is_short functionwith a lambda expression defined within the call to filter() ."
      ],
      "metadata": {
        "id": "AQoNfWeBRB9u"
      }
    },
    {
      "cell_type": "code",
      "source": [
        "cities = [\"New York City\", \"Los Angeles\", \"Chicago\", \"Mountain View\", \"Denver\", \"Boston\"]\n",
        "is_short= lambda name : len(name) < 10\n",
        "short_cities = list(filter(is_short, cities))\n",
        "print(short_cities)\n"
      ],
      "metadata": {
        "colab": {
          "base_uri": "https://localhost:8080/"
        },
        "id": "pLK9B79RRPmA",
        "outputId": "656fb93e-4bab-4790-fc5c-9a6af2b63e72"
      },
      "execution_count": null,
      "outputs": [
        {
          "output_type": "stream",
          "name": "stdout",
          "text": [
            "['Chicago', 'Denver', 'Boston']\n"
          ]
        }
      ]
    },
    {
      "cell_type": "markdown",
      "source": [
        "#Task#05\n",
        "#Generate Messages\n",
        "Imagine you're a teacher who needs to send a message to each of your students reminding them of their missing assignments and grade in the class. You have each of their names, number of missing assignments, and grades on a spreadsheet and just have to insert them into placeholders in this message you came up with:\n",
        "Hi [insert student name],\n",
        "This is a reminder that you have [insert number of missing\n",
        "assignments] assignments left to submit before you can graduate. Your current grade is [insert current grade] and can increase to [insert potential grade] if you submit all assignments before the due date.\n",
        "You can just copy and paste this message to each student and manually insert the appropriate values each time, but instead you're going to write a program that does this for you.\n",
        "Write a script that does the following:\n",
        "1. Ask for user input 3 times. Once for a list of names, once for a list of missing assignment counts, and once for a list of grades. Use this input to create lists for names , assignments , and grades .\n",
        "2. Use a loop to print the message for each student with the correct values. The potential grade is simply the current grade added to two times the number of missing assignments.\n"
      ],
      "metadata": {
        "id": "6GQgjg26R05E"
      }
    },
    {
      "cell_type": "code",
      "source": [
        "def generate_messages(names, assignments, grades):\n",
        "    for i in range(len(names)):\n",
        "        current_name = names[i]\n",
        "        current_assignment_count = assignments[i]\n",
        "        current_grade = grades[i]\n",
        "        potential_grade = current_grade + 2 * current_assignment_count\n",
        "\n",
        "        message = f\"Hi {current_name},\\n\" \\\n",
        "                  f\"This is a reminder that you have {current_assignment_count} assignments left to submit \" \\\n",
        "                  f\"before you can graduate. Your current grade is {current_grade} and can increase to \" \\\n",
        "                  f\"{potential_grade} if you submit all assignments before the due date.\\n\"\n",
        "\n",
        "        print(message)\n",
        "\n",
        "\n",
        "if __name__ == \"__main__\":\n",
        "    # Ask for user input for names, missing assignment counts, and grades\n",
        "    names_input = input(\"Enter a list of student names (comma-separated): \")\n",
        "    assignments_input = input(\"Enter the number of missing assignments for each student (comma-separated): \")\n",
        "    grades_input = input(\"Enter the grades for each student (comma-separated): \")\n",
        "\n",
        "    # Split the input strings into lists\n",
        "    names = names_input.split(',')\n",
        "    assignments = [int(x) for x in assignments_input.split(',')]\n",
        "    grades = [int(x) for x in grades_input.split(',')]\n",
        "\n",
        "    # Call the function to generate messages for each student\n",
        "    generate_messages(names, assignments, grades)\n"
      ],
      "metadata": {
        "colab": {
          "base_uri": "https://localhost:8080/"
        },
        "id": "9Vkt_3KoSSrG",
        "outputId": "1b2dba32-6dff-4d73-e310-cab1ab526064"
      },
      "execution_count": null,
      "outputs": [
        {
          "output_type": "stream",
          "name": "stdout",
          "text": [
            "Enter a list of student names (comma-separated): waseem,zameer\n",
            "Enter the number of missing assignments for each student (comma-separated): 10,10\n",
            "Enter the grades for each student (comma-separated): 3,3\n",
            "Hi waseem,\n",
            "This is a reminder that you have 10 assignments left to submit before you can graduate. Your current grade is 3 and can increase to 23 if you submit all assignments before the due date.\n",
            "\n",
            "Hi zameer,\n",
            "This is a reminder that you have 10 assignments left to submit before you can graduate. Your current grade is 3 and can increase to 23 if you submit all assignments before the due date.\n",
            "\n"
          ]
        }
      ]
    },
    {
      "cell_type": "markdown",
      "source": [
        "#Task#06\n",
        "#Reading and Writing Files\n",
        "Calling the read Method with an Integer\n",
        "In the code you saw earlier, the call to f.read() had no arguments passed to it. This defaults to reading all the remainder of the file from its current position - the whole file. If you pass the read method an integer argument, it will read up to that number of characters, output all of them, and keep the 'window' at that position ready to read\n",
        "on.\n",
        "Let's see this in an example that uses the following file, camelot.txt :\n",
        "We're the knights of the round table\n",
        "We dance whenever we're able\n",
        "12\n",
        "Here's a script that reads in the file a little at a time by passing an integer argument\n",
        "to .read() .\n",
        "with open(\"camelot.txt\") as song:\n",
        " print(song.read(2))\n",
        " print(song.read(8))\n",
        " print(song.read())\n",
        "Outputs:\n",
        "We\n",
        "'re the\n",
        "knights of the round table\n",
        "We dance whenever we're able\n",
        "You can try out this example by creating your\n",
        "own camelot.txt and example.py files with the text above.\n",
        "Each time we called read on the file with an integer argument, it read up to that\n",
        "number of characters, outputted them, and kept the 'window' at that position for the\n",
        "next call to read . This makes moving around in the open file a little tricky, as there\n",
        "aren't many landmarks to navigate by.\n",
        "Reading Line by Line\n",
        "\\n s in blocks of text are newline characters. The newline character marks the end of\n",
        "a line, and tells a program (such as a text editor) to go down to the next line.\n",
        "However, looking at the stream of characters in the file, \\n is just another character.\n",
        "Fortunately, Python knows that these are special characters and you can ask it to read\n",
        "one line at a time. Let's try it!\n",
        "Conveniently, Python will loop over the lines of a file using the syntax for\n",
        "line in file .\n",
        "I can use this to create a list of lines in the file. Because each line still has its\n",
        "newline character attached, I remove this using .strip() .\n",
        "camelot_lines = []\n",
        "with open(\"camelot.txt\") as f:\n",
        " for line in f:\n",
        " camelot_lines.append(line.strip())\n",
        "print(camelot_lines)\n",
        "Outputs:\n",
        "[\"We're the knights of the round table\", \"We dance whenever we're able\"]"
      ],
      "metadata": {
        "id": "MP1B1PrYTNRr"
      }
    },
    {
      "cell_type": "code",
      "source": [
        "# Reading the file using read() method with integer arguments\n",
        "with open(\"camelot.txt\") as song:\n",
        "    print(song.read(2))  # Reads the first 2 characters\n",
        "    print(song.read(8))  # Reads the next 8 characters\n",
        "    print(song.read())   # Reads the rest of the file\n",
        "\n",
        "# Reading the file line by line\n",
        "camelot_lines = []\n",
        "with open(\"camelot.txt\") as f:\n",
        "    for line in f:\n",
        "        camelot_lines.append(line.strip())\n",
        "\n",
        "print(camelot_lines)"
      ],
      "metadata": {
        "colab": {
          "base_uri": "https://localhost:8080/"
        },
        "id": "zSLAu3uMUFE2",
        "outputId": "d30e4cdd-6c09-4be0-9237-cb154b1bbd7d"
      },
      "execution_count": null,
      "outputs": [
        {
          "output_type": "stream",
          "name": "stdout",
          "text": [
            "We\n",
            "'re the \n",
            "knights of the round table\n",
            "We dance whenever we're able\n",
            "\n",
            "[\"We're the knights of the round table\", \"We dance whenever we're able\"]\n"
          ]
        }
      ]
    },
    {
      "cell_type": "markdown",
      "source": [
        "#Task#07\n",
        "#Flying Circus Cast List\n",
        "You're going to create a list of the actors who appeared in the television programme Monty Python's Flying Circus.\n",
        "Write a function called create_cast_list that takes a filename as input and returns\n",
        "a list of actors' names.\n",
        "It will be run on the file flying_circus_cast.txt (this information was collected\n",
        "from imdb.com). Each line of that file consists of an actor's name, a comma, and then\n",
        "some (messy) information about roles they played in the programme. You'll need to\n",
        "extract only the name and add it to a list. You might use the .split() method to\n",
        "process each line"
      ],
      "metadata": {
        "id": "M5rR0c5uWQMy"
      }
    },
    {
      "cell_type": "code",
      "source": [
        "def create_cast_list(filename):\n",
        "    cast_list = []\n",
        "\n",
        "    with open(filename, \"r\") as file:\n",
        "        for line in file:\n",
        "            # Split the line using the comma as the separator and get the first element (the actor's name)\n",
        "            actor_name = line.split(\",\")[0].strip()\n",
        "            cast_list.append(actor_name)\n",
        "\n",
        "    return cast_list\n",
        "\n",
        "# Example usage:\n",
        "filename = \"flying_circus_cast.txt\"\n",
        "actors = create_cast_list(filename)\n",
        "print(actors)\n"
      ],
      "metadata": {
        "colab": {
          "base_uri": "https://localhost:8080/"
        },
        "id": "g6Pt_K5JW8Cb",
        "outputId": "8586b39a-89b2-4293-83c3-9677f4e08a40"
      },
      "execution_count": null,
      "outputs": [
        {
          "output_type": "stream",
          "name": "stdout",
          "text": [
            "['Graham Chapman', 'Eric Idle', 'Terry Jones', 'Michael Palin', 'Terry Gilliam', 'John Cleese', 'Carol Cleveland', 'Ian Davidson', 'John Hughman', 'The Fred Tomlinson Singers', 'Connie Booth', 'Bob Raymond', 'Lyn Ashley', 'Rita Davies', 'Stanley Mason', 'David Ballantyne', 'Donna Reading', 'Peter Brett', 'Maureen Flanagan', 'Katya Wyeth', 'Frank Lester', 'Neil Innes', 'Dick Vosburgh', 'Sandra Richards', 'Julia Breck', 'Nicki Howorth', 'Jimmy Hill', 'Barry Cryer', 'Jeannette Wild', 'Marjorie Wilde', 'Marie Anderson', 'Caron Gardner', 'Nosher Powell', 'Carolae Donoghue', 'Vincent Wong', 'Helena Clayton', 'Nigel Jones', 'Roy Gunson', 'Daphne Davey', 'Stenson Falke', 'Alexander Curry', 'Frank Williams', 'Ralph Wood', 'Rosalind Bailey', 'Marion Mould', 'Sheila Sands', 'Richard Baker', 'Douglas Adams', 'Ewa Aulin', 'Reginald Bosanquet', 'Barbara Lindley', 'Roy Brent', 'Jonas Card', 'Tony Christopher', 'Beulah Hughes', 'Peter Kodak', 'Lulu', 'Jay Neill', 'Graham Skidmore', 'Ringo Starr', 'Fred Tomlinson', 'David Hamilton', 'Suzy Mandel', 'Peter Woods']\n"
          ]
        }
      ]
    }
  ]
}