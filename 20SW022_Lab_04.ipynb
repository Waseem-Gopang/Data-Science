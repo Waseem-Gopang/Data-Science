{
  "nbformat": 4,
  "nbformat_minor": 0,
  "metadata": {
    "colab": {
      "provenance": [],
      "authorship_tag": "ABX9TyPFNnSQ1Zl2svMtc51wvpqR",
      "include_colab_link": true
    },
    "kernelspec": {
      "name": "python3",
      "display_name": "Python 3"
    },
    "language_info": {
      "name": "python"
    }
  },
  "cells": [
    {
      "cell_type": "markdown",
      "metadata": {
        "id": "view-in-github",
        "colab_type": "text"
      },
      "source": [
        "<a href=\"https://colab.research.google.com/github/Waseem-Gopang/Data-Science/blob/main/20SW022_Lab_04.ipynb\" target=\"_parent\"><img src=\"https://colab.research.google.com/assets/colab-badge.svg\" alt=\"Open In Colab\"/></a>"
      ]
    },
    {
      "cell_type": "markdown",
      "source": [
        "#Task:01\n",
        "#import numpy as np\n",
        "#Using the Built-in functions you learned about in the previous lesson, create a 4 x 4 ndarray that only contains consecutive even numbers from 2 to 32 (inclusive)"
      ],
      "metadata": {
        "id": "HMfwdqpFcAOi"
      }
    },
    {
      "cell_type": "code",
      "source": [
        "import numpy as np\n",
        "even_numbers = np.arange(2, 33, 2)\n",
        "even_matrix = even_numbers.reshape(4, 4)\n",
        "print(even_matrix)\n"
      ],
      "metadata": {
        "colab": {
          "base_uri": "https://localhost:8080/"
        },
        "id": "SCq1SNKtcXIx",
        "outputId": "557fab87-7415-48bd-f313-c8f5f1a04cc9"
      },
      "execution_count": null,
      "outputs": [
        {
          "output_type": "stream",
          "name": "stdout",
          "text": [
            "[[ 2  4  6  8]\n",
            " [10 12 14 16]\n",
            " [18 20 22 24]\n",
            " [26 28 30 32]]\n"
          ]
        }
      ]
    },
    {
      "cell_type": "markdown",
      "source": [
        "#Task: 02\n",
        "#import numpy as np\n",
        "\n",
        "# Create a 5 x 5 ndarray with consecutive integers from 1 to 25 (inclusive).\n",
        "# Afterwards use Boolean indexing to pick out only the odd numbers in the array\n",
        "# Create a 5 x 5 ndarray with consecutive integers from 1 to 25 (inclusive).\n",
        "X =\n",
        "# Use Boolean indexing to pick out only the odd numbers in the array\n",
        "Y ="
      ],
      "metadata": {
        "id": "ov1WeglyfMLC"
      }
    },
    {
      "cell_type": "code",
      "source": [
        "import numpy as np\n",
        "X = np.arange(1, 26).reshape(5, 5)\n",
        "Y = X[X % 2 != 0]\n",
        "\n",
        "print(\"Original 5x5 array:\")\n",
        "print(X)\n",
        "\n",
        "print(\"\\nArray with only odd numbers:\")\n",
        "print(Y)\n"
      ],
      "metadata": {
        "colab": {
          "base_uri": "https://localhost:8080/"
        },
        "id": "RywUE7FQgP7s",
        "outputId": "1e6c1617-2a17-4205-c43f-b0f5c0fe5f2b"
      },
      "execution_count": null,
      "outputs": [
        {
          "output_type": "stream",
          "name": "stdout",
          "text": [
            "Original 5x5 array:\n",
            "[[ 1  2  3  4  5]\n",
            " [ 6  7  8  9 10]\n",
            " [11 12 13 14 15]\n",
            " [16 17 18 19 20]\n",
            " [21 22 23 24 25]]\n",
            "\n",
            "Array with only odd numbers:\n",
            "[ 1  3  5  7  9 11 13 15 17 19 21 23 25]\n"
          ]
        }
      ]
    },
    {
      "cell_type": "markdown",
      "source": [
        "#Task:03\n",
        "#import numpy as np\n",
        "# Use Broadcasting to create a 4 x 4 ndarray that has its first column full of 1s, its second column full of 2s, its third column full of 3s, etc..\n",
        "\n",
        "X =\n"
      ],
      "metadata": {
        "id": "_Z5zgINKg2KO"
      }
    },
    {
      "cell_type": "code",
      "source": [
        "import numpy as np\n",
        "X = np.arange(1, 5)[:, np.newaxis] * np.ones((4, 4), dtype=int)\n",
        "print(X)\n"
      ],
      "metadata": {
        "colab": {
          "base_uri": "https://localhost:8080/"
        },
        "id": "ZATIy2o7hl_r",
        "outputId": "0e17cddf-aec1-4e72-fe05-fa6db7a37322"
      },
      "execution_count": null,
      "outputs": [
        {
          "output_type": "stream",
          "name": "stdout",
          "text": [
            "[[1 1 1 1]\n",
            " [2 2 2 2]\n",
            " [3 3 3 3]\n",
            " [4 4 4 4]]\n"
          ]
        }
      ]
    }
  ]
}