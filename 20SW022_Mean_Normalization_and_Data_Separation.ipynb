{
  "cells": [
    {
      "cell_type": "markdown",
      "metadata": {
        "colab_type": "text",
        "id": "view-in-github"
      },
      "source": [
        "<a href=\"https://colab.research.google.com/github/Waseem-Gopang/Data-Science/blob/main/20SW022_Mean_Normalization_and_Data_Separation.ipynb\" target=\"_parent\"><img src=\"https://colab.research.google.com/assets/colab-badge.svg\" alt=\"Open In Colab\"/></a>"
      ]
    },
    {
      "cell_type": "markdown",
      "metadata": {
        "id": "FwKviFPUZXU5"
      },
      "source": [
        "#20SW022\n",
        "#LAb 4\n",
        "#\n",
        "\n",
        "\n",
        "# Mean Normalization\n",
        "\n",
        "In machine learning we use large amounts of data to train our models. Some machine learning algorithms may require that the data is *normalized* in order to work correctly. The idea of normalization, also known as *feature scaling*, is to ensure that all the data is on a similar scale, *i.e.* that all the data takes on a similar range of values. For example, we might have a dataset that has values between 0 and 5,000. By normalizing the data we can make the range of values be between 0 and 1.\n",
        "\n",
        "In this lab, you will be performing a different kind of feature scaling known as *mean normalization*. Mean normalization will scale the data, but instead of making the values be between 0 and 1, it will distribute the values evenly in some small interval around zero. For example, if we have a dataset that has values between 0 and 5,000, after mean normalization the range of values will be distributed in some small range around 0, for example between -3 to 3. Because the range of values are distributed evenly around zero, this guarantees that the average (mean) of all elements will be zero. Therefore, when you perform *mean normalization* your data will not only be scaled but it will also have an average of zero.\n",
        "\n",
        "# To Do:\n",
        "\n",
        "You will start by importing NumPy and creating a rank 2 ndarray of random integers between 0 and 5,000 (inclusive) with 1000 rows and 20 columns. This array will simulate a dataset with a wide range of values. Fill in the code below"
      ]
    },
    {
      "cell_type": "code",
      "execution_count": null,
      "metadata": {
        "colab": {
          "base_uri": "https://localhost:8080/"
        },
        "id": "EV-DP3cbZXVH",
        "outputId": "fa3427e8-54ff-4d64-dfd7-55c498627ac1"
      },
      "outputs": [
        {
          "name": "stdout",
          "output_type": "stream",
          "text": [
            "[[1355 1637 4222 ... 3893 1504 4216]\n",
            " [2523 2722 3311 ...  549  821  877]\n",
            " [1423 3967  252 ... 3308 1618  954]\n",
            " ...\n",
            " [1342  175 3721 ... 1213  871 2935]\n",
            " [2867 3908 2451 ... 4755 2379 3153]\n",
            " [4169  208 3962 ... 1546 2293 4611]]\n"
          ]
        }
      ],
      "source": [
        "# import NumPy into Python\n",
        "import numpy as np\n",
        "\n",
        "# Create a 1000 x 20 ndarray with random integers in the half-open interval [0, 5001).\n",
        "X = np.random.randint(0, 5001, size=(1000, 20))\n",
        "\n",
        "# print the shape of X\n",
        "print(X)"
      ]
    },
    {
      "cell_type": "markdown",
      "metadata": {
        "id": "nDG9Ap-VZXVI"
      },
      "source": [
        "Now that you created the array we will mean normalize it. We will perform mean normalization using the following equation:\n",
        "\n",
        "$\\mbox{Norm_Col}_i = \\frac{\\mbox{Col}_i - \\mu_i}{\\sigma_i}$\n",
        "\n",
        "where $\\mbox{Col}_i$ is the $i$th column of $X$, $\\mu_i$ is average of the values in the $i$th column of $X$, and $\\sigma_i$ is the standard deviation of the values in the $i$th column of $X$. In other words, mean normalization is performed by subtracting from each column of $X$ the average of its values, and then by dividing by the standard deviation of its values. In the space below, you will first calculate the average and standard deviation of each column of $X$."
      ]
    },
    {
      "cell_type": "code",
      "execution_count": null,
      "metadata": {
        "id": "nL5JLvJFZXVJ"
      },
      "outputs": [],
      "source": [
        "# Average of the values in each column of X\n",
        "ave_cols = np.mean(X, axis=0)\n",
        "\n",
        "# Standard Deviation of the values in each column of X\n",
        "std_cols = np.std(X, axis=0)"
      ]
    },
    {
      "cell_type": "markdown",
      "metadata": {
        "id": "eCsk_7OhZXVJ"
      },
      "source": [
        "If you have done the above calculations correctly, then `ave_cols` and `std_cols`, should both be vectors with shape `(20,)` since $X$ has 20 columns. You can verify this by filling the code below:"
      ]
    },
    {
      "cell_type": "code",
      "execution_count": null,
      "metadata": {
        "colab": {
          "base_uri": "https://localhost:8080/"
        },
        "id": "iYqKEYOxZXVK",
        "outputId": "7537fcc0-6a46-4e5e-8a17-f4ad96fcaaa2"
      },
      "outputs": [
        {
          "name": "stdout",
          "output_type": "stream",
          "text": [
            "(20,)\n",
            "(20,)\n"
          ]
        }
      ],
      "source": [
        "# Print the shape of ave_cols\n",
        "print(ave_cols.shape)\n",
        "\n",
        "# Print the shape of std_cols\n",
        "print(std_cols.shape)"
      ]
    },
    {
      "cell_type": "markdown",
      "metadata": {
        "id": "Nk45X--xZXVK"
      },
      "source": [
        "You can now take advantage of Broadcasting to calculate the mean normalized version of $X$ in just one line of code using the equation above. Fill in the code below"
      ]
    },
    {
      "cell_type": "code",
      "execution_count": null,
      "metadata": {
        "id": "C4dQt99xZXVL"
      },
      "outputs": [],
      "source": [
        "# Mean normalize X\n",
        "X_norm =(X-ave_cols)/std_cols"
      ]
    },
    {
      "cell_type": "markdown",
      "metadata": {
        "id": "xgREVd0fZXVL"
      },
      "source": [
        "If you have performed the mean normalization correctly, then the average of all the elements in $X_{\\tiny{\\mbox{norm}}}$ should be close to zero, and they should be evenly distributed in some small interval around zero. You can verify this by filing the code below:"
      ]
    },
    {
      "cell_type": "code",
      "execution_count": null,
      "metadata": {
        "colab": {
          "base_uri": "https://localhost:8080/"
        },
        "id": "l9eCBM80ZXVM",
        "outputId": "493f9f61-d8dd-48ef-b68e-3961f052c705"
      },
      "outputs": [
        {
          "name": "stdout",
          "output_type": "stream",
          "text": [
            "-1.8118839761882556e-17\n",
            "-1.724245039748395\n",
            "1.7407615614567515\n"
          ]
        }
      ],
      "source": [
        "# Print the average of all the values of X_norm\n",
        "print(np.mean(X_norm))\n",
        "# Print the average of the minimum value in each column of X_norm\n",
        "print(np.mean(np.min(X_norm, axis=0)))\n",
        "\n",
        "# Print the average of the maximum value in each column of X_norm\n",
        "print(np.mean(np.max(X_norm, axis=0)))"
      ]
    },
    {
      "cell_type": "markdown",
      "metadata": {
        "id": "CR0DR4KQZXVM"
      },
      "source": [
        "You should note that since $X$ was created using random integers, the above values will vary.\n",
        "\n",
        "# Data Separation\n",
        "\n",
        "After the data has been mean normalized, it is customary in machine learnig to split our dataset into three sets:\n",
        "\n",
        "1. A Training Set\n",
        "2. A Cross Validation Set\n",
        "3. A Test Set\n",
        "\n",
        "The dataset is usually divided such that the Training Set contains 60% of the data, the Cross Validation Set contains 20% of the data, and the Test Set contains 20% of the data.\n",
        "\n",
        "In this part of the lab you will separate `X_norm` into a Training Set, Cross Validation Set, and a Test Set. Each data set will contain rows of `X_norm` chosen at random, making sure that we don't pick the same row twice. This will guarantee that all the rows of `X_norm` are chosen and randomly distributed among the three new sets.\n",
        "\n",
        "You will start by creating a rank 1 ndarray that contains a random permutation of the row indices of `X_norm`. You can do this by using the `np.random.permutation()` function. The `np.random.permutation(N)` function creates a random permutation of integers from 0 to `N - 1`. Let's see an example:"
      ]
    },
    {
      "cell_type": "code",
      "execution_count": null,
      "metadata": {
        "colab": {
          "base_uri": "https://localhost:8080/"
        },
        "id": "qM7uGkN5ZXVM",
        "outputId": "2351b306-92d6-4936-e498-811d2f893874"
      },
      "outputs": [
        {
          "data": {
            "text/plain": [
              "array([4, 1, 3, 0, 2])"
            ]
          },
          "execution_count": 11,
          "metadata": {},
          "output_type": "execute_result"
        }
      ],
      "source": [
        "# We create a random permutation of integers 0 to 4\n",
        "np.random.permutation(5)"
      ]
    },
    {
      "cell_type": "markdown",
      "metadata": {
        "id": "1lXgdLWlZXVN"
      },
      "source": [
        "# To Do\n",
        "\n",
        "In the space below create a rank 1 ndarray that contains a random permutation of the row indices of `X_norm`. You can do this in one line of code by extracting the number of rows of `X_norm` using the `shape` attribute and then passing it to the  `np.random.permutation()` function. Remember the `shape` attribute returns a tuple with two numbers in the form `(rows,columns)`."
      ]
    },
    {
      "cell_type": "code",
      "execution_count": null,
      "metadata": {
        "colab": {
          "base_uri": "https://localhost:8080/"
        },
        "id": "qFtLlmV3ZXVN",
        "outputId": "9c4457c2-f7ed-4bdf-c14f-f7c4eea1414a"
      },
      "outputs": [
        {
          "name": "stdout",
          "output_type": "stream",
          "text": [
            "(1000,)\n"
          ]
        }
      ],
      "source": [
        "# Create a rank 1 ndarray that contains a random permutation of the row indices of `X_norm`\n",
        "num_rows = X_norm.shape[0]\n",
        "\n",
        "row_indices = np.random.permutation(num_rows)\n",
        "\n",
        "print(row_indices.shape)"
      ]
    },
    {
      "cell_type": "markdown",
      "metadata": {
        "id": "P3nK215kZXVN"
      },
      "source": [
        "Now you can create the three datasets using the `row_indices` ndarray to select the rows that will go into each dataset. Rememeber that the Training Set contains 60% of the data, the Cross Validation Set contains 20% of the data, and the Test Set contains 20% of the data. Each set requires just one line of code to create. Fill in the code below"
      ]
    },
    {
      "cell_type": "code",
      "execution_count": null,
      "metadata": {
        "id": "DeVNv-kGZXVN"
      },
      "outputs": [],
      "source": [
        "# Make any necessary calculations.\n",
        "# You can save your calculations into variables to use later.\n",
        "total_rows = X_norm.shape[0]\n",
        "train_size = int(0.6 * total_rows)\n",
        "cv_size = int(0.2 * total_rows)\n",
        "test_size = total_rows - train_size - cv_size\n",
        "\n",
        "# Create a Training Set\n",
        "X_train =  row_indices[:train_size]\n",
        "training_set = X_norm[X_train]\n",
        "\n",
        "# Create a Cross Validation Set\n",
        "X_crossVal =  row_indices[train_size : train_size + cv_size]\n",
        "cv_set = X_norm[X_crossVal]\n",
        "\n",
        "# Create a Test Set\n",
        "X_test = row_indices[train_size + cv_size :]\n",
        "test_set = X_norm[X_test]\n"
      ]
    },
    {
      "cell_type": "markdown",
      "metadata": {
        "id": "L_fNl-eiZXVO"
      },
      "source": [
        "If you performed the above calculations correctly, then `X_tain` should have 600 rows and 20 columns, `X_crossVal` should have 200 rows and 20 columns, and `X_test` should have 200 rows and 20 columns. You can verify this by filling the code below:"
      ]
    },
    {
      "cell_type": "code",
      "execution_count": null,
      "metadata": {
        "colab": {
          "base_uri": "https://localhost:8080/"
        },
        "id": "IcmJDtyOZXVO",
        "outputId": "67884acb-5a3b-4667-dd26-92995a3c056a"
      },
      "outputs": [
        {
          "name": "stdout",
          "output_type": "stream",
          "text": [
            "(600, 20)\n",
            "(200, 20)\n",
            "(200, 20)\n"
          ]
        }
      ],
      "source": [
        "# Print the shape of X_train\n",
        "print(training_set.shape)\n",
        "\n",
        "# Print the shape of X_crossVal\n",
        "print(cv_set.shape)\n",
        "\n",
        "# Print the shape of X_test\n",
        "print(test_set.shape)\n"
      ]
    },
    {
      "cell_type": "code",
      "execution_count": null,
      "metadata": {
        "id": "tXJBXvCbZXVO"
      },
      "outputs": [],
      "source": []
    }
  ],
  "metadata": {
    "colab": {
      "include_colab_link": true,
      "provenance": []
    },
    "kernelspec": {
      "display_name": "Python 3",
      "language": "python",
      "name": "python3"
    },
    "language_info": {
      "codemirror_mode": {
        "name": "ipython",
        "version": 3
      },
      "file_extension": ".py",
      "mimetype": "text/x-python",
      "name": "python",
      "nbconvert_exporter": "python",
      "pygments_lexer": "ipython3",
      "version": "3.6.4"
    }
  },
  "nbformat": 4,
  "nbformat_minor": 0
}
