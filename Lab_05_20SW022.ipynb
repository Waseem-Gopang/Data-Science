{
  "nbformat": 4,
  "nbformat_minor": 0,
  "metadata": {
    "colab": {
      "provenance": [],
      "authorship_tag": "ABX9TyPy+6dJyiec/0BuEMAkFtPP",
      "include_colab_link": true
    },
    "kernelspec": {
      "name": "python3",
      "display_name": "Python 3"
    },
    "language_info": {
      "name": "python"
    }
  },
  "cells": [
    {
      "cell_type": "markdown",
      "metadata": {
        "id": "view-in-github",
        "colab_type": "text"
      },
      "source": [
        "<a href=\"https://colab.research.google.com/github/Waseem-Gopang/Data-Science/blob/main/Lab_05_20SW022.ipynb\" target=\"_parent\"><img src=\"https://colab.research.google.com/assets/colab-badge.svg\" alt=\"Open In Colab\"/></a>"
      ]
    },
    {
      "cell_type": "markdown",
      "source": [
        "#Task:01"
      ],
      "metadata": {
        "id": "LZBj2iLT6Rj3"
      }
    },
    {
      "cell_type": "code",
      "source": [
        "import pandas as pd\n",
        "distance_from_sun = [149.6, 1433.5, 227.9, 108.2, 778.6]\n",
        "planets = ['Earth', 'Saturn', 'Mars', 'Venus', 'Jupiter']\n",
        "\n",
        "dist_planets = pd.Series(distance_from_sun, index=planets)\n",
        "\n",
        "speed_of_light = 18\n",
        "time_light = dist_planets / speed_of_light\n",
        "\n",
        "close_planets = time_light[time_light < 40]\n",
        "\n",
        "print(\"Distance from Sun:\\n\", dist_planets)\n",
        "print(\"\\nTime for sunlight to reach each planet:\\n\", time_light)\n",
        "print(\"\\nClose planets (sunlight takes less than 40 minutes):\\n\", close_planets)\n"
      ],
      "metadata": {
        "colab": {
          "base_uri": "https://localhost:8080/"
        },
        "id": "ZbNlMVlY6VC4",
        "outputId": "42b7970b-0b1b-436a-b6bb-512f853006e5"
      },
      "execution_count": 1,
      "outputs": [
        {
          "output_type": "stream",
          "name": "stdout",
          "text": [
            "Distance from Sun:\n",
            " Earth       149.6\n",
            "Saturn     1433.5\n",
            "Mars        227.9\n",
            "Venus       108.2\n",
            "Jupiter     778.6\n",
            "dtype: float64\n",
            "\n",
            "Time for sunlight to reach each planet:\n",
            " Earth       8.311111\n",
            "Saturn     79.638889\n",
            "Mars       12.661111\n",
            "Venus       6.011111\n",
            "Jupiter    43.255556\n",
            "dtype: float64\n",
            "\n",
            "Close planets (sunlight takes less than 40 minutes):\n",
            " Earth     8.311111\n",
            "Mars     12.661111\n",
            "Venus     6.011111\n",
            "dtype: float64\n"
          ]
        }
      ]
    },
    {
      "cell_type": "markdown",
      "source": [
        "#Task:02"
      ],
      "metadata": {
        "id": "BcZC4UMO7daL"
      }
    },
    {
      "cell_type": "code",
      "source": [
        "import pandas as pd\n",
        "import numpy as np\n",
        "\n",
        "# Create a Pandas DataFrame with the given data\n",
        "books = pd.Series(data=['Great Expectations', 'Of Mice and Men', 'Romeo and Juliet', 'The Time Machine', 'Alice in Wonderland'])\n",
        "authors = pd.Series(data=['Charles Dickens', 'John Steinbeck', 'William Shakespeare', 'H. G. Wells', 'Lewis Carroll'])\n",
        "\n",
        "user_1 = pd.Series(data=[3.2, np.nan, 2.5])\n",
        "user_2 = pd.Series(data=[5.0, 1.3, 4.0, 3.8])\n",
        "user_3 = pd.Series(data=[2.0, 2.3, np.nan, 4])\n",
        "user_4 = pd.Series(data=[4, 3.5, 4, 5, 4.2])\n",
        "\n",
        "# Create a dictionary with the data\n",
        "data = {\n",
        "    'Author': authors,\n",
        "    'Book Title': books,\n",
        "    'User 1': user_1,\n",
        "    'User 2': user_2,\n",
        "    'User 3': user_3,\n",
        "    'User 4': user_4\n",
        "}\n",
        "\n",
        "# Use the dictionary to create a Pandas DataFrame\n",
        "book_ratings = pd.DataFrame(data)\n",
        "\n",
        "# Replace NaN values with the average rating in each column\n",
        "numeric_columns = ['User 1', 'User 2', 'User 3', 'User 4']\n",
        "book_ratings[numeric_columns] = book_ratings[numeric_columns].fillna(book_ratings[numeric_columns].mean())\n",
        "\n",
        "# Set the precision of decimals in the DataFrame\n",
        "book_ratings = book_ratings.applymap(lambda x: round(x, 1) if isinstance(x, (int, float)) else x)\n",
        "\n",
        "# Find the books that had a rating of 5\n",
        "best_rated = book_ratings[book_ratings.eq(5).any(axis=1)]['Book Title'].values\n",
        "\n",
        "print(\"Book Ratings:\\n\", book_ratings)\n",
        "print(\"\\nBest Rated Books:\\n\", best_rated)\n"
      ],
      "metadata": {
        "colab": {
          "base_uri": "https://localhost:8080/"
        },
        "id": "sxUc2dGD7frV",
        "outputId": "92f167c2-7797-4af5-ced5-6f7b3aa3b5cf"
      },
      "execution_count": 9,
      "outputs": [
        {
          "output_type": "stream",
          "name": "stdout",
          "text": [
            "Book Ratings:\n",
            "                 Author           Book Title  User 1  User 2  User 3  User 4\n",
            "0      Charles Dickens   Great Expectations     3.2     5.0     2.0     4.0\n",
            "1       John Steinbeck      Of Mice and Men     2.9     1.3     2.3     3.5\n",
            "2  William Shakespeare     Romeo and Juliet     2.5     4.0     2.8     4.0\n",
            "3          H. G. Wells     The Time Machine     2.9     3.8     4.0     5.0\n",
            "4        Lewis Carroll  Alice in Wonderland     2.9     3.5     2.8     4.2\n",
            "\n",
            "Best Rated Books:\n",
            " ['Great Expectations' 'The Time Machine']\n"
          ]
        }
      ]
    }
  ]
}